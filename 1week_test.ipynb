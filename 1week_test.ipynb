{
  "nbformat": 4,
  "nbformat_minor": 0,
  "metadata": {
    "colab": {
      "provenance": [],
      "authorship_tag": "ABX9TyMfxSmo4YpEgvbH5+/bt6Li",
      "include_colab_link": true
    },
    "kernelspec": {
      "name": "python3",
      "display_name": "Python 3"
    },
    "language_info": {
      "name": "python"
    }
  },
  "cells": [
    {
      "cell_type": "markdown",
      "metadata": {
        "id": "view-in-github",
        "colab_type": "text"
      },
      "source": [
        "<a href=\"https://colab.research.google.com/github/p-garden/dustmqdyd/blob/main/1week_test.ipynb\" target=\"_parent\"><img src=\"https://colab.research.google.com/assets/colab-badge.svg\" alt=\"Open In Colab\"/></a>"
      ]
    },
    {
      "cell_type": "code",
      "execution_count": null,
      "metadata": {
        "colab": {
          "base_uri": "https://localhost:8080/"
        },
        "id": "QuLGayuNwblw",
        "outputId": "07490d97-71e2-4a35-f55a-2454ebb14f0e"
      },
      "outputs": [
        {
          "output_type": "stream",
          "name": "stdout",
          "text": [
            "[[ 1  2]\n",
            " [ 3  4]\n",
            " [ 5  6]\n",
            " [13 14]\n",
            " [15 16]\n",
            " [17 18]]\n"
          ]
        }
      ],
      "source": [
        "import numpy as np\n",
        "\n",
        "arr1 = np.arange(1, 7).reshape(3, 2)\n",
        "arr2 = np.arange(13, 19).reshape(3, 2)\n",
        "arr3 = np.append(arr1, arr2, axis = 0)\n",
        "print(arr3)"
      ]
    },
    {
      "cell_type": "code",
      "source": [
        "arr1 = np.arange(1,25).reshape(6,4)\n",
        "arr3 = np.arange(1,25).reshape(3,8)\n",
        "for i in np.arange(3):\n",
        "  arr2 = np.append(arr1[i],arr1[i+3],axis=0)\n",
        "  arr3[i] = arr2  \n",
        "print(arr3)\n"
      ],
      "metadata": {
        "colab": {
          "base_uri": "https://localhost:8080/"
        },
        "id": "0FQ3bNJ3xtlA",
        "outputId": "5a8db6b2-314a-42ab-f6c0-5aa56fdc8052"
      },
      "execution_count": null,
      "outputs": [
        {
          "output_type": "stream",
          "name": "stdout",
          "text": [
            "[[ 1  2  3  4 13 14 15 16]\n",
            " [ 5  6  7  8 17 18 19 20]\n",
            " [ 9 10 11 12 21 22 23 24]]\n"
          ]
        }
      ]
    },
    {
      "cell_type": "markdown",
      "source": [],
      "metadata": {
        "id": "cic5teziwoWb"
      }
    }
  ]
}