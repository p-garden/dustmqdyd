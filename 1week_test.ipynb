{
  "nbformat": 4,
  "nbformat_minor": 0,
  "metadata": {
    "colab": {
      "provenance": [],
      "mount_file_id": "1CMbhcGJRJK8nZwuRr6E_U_JkjzyaajaY",
      "authorship_tag": "ABX9TyPooB1hFe96HH7At8KP6gIQ",
      "include_colab_link": true
    },
    "kernelspec": {
      "name": "python3",
      "display_name": "Python 3"
    },
    "language_info": {
      "name": "python"
    }
  },
  "cells": [
    {
      "cell_type": "markdown",
      "metadata": {
        "id": "view-in-github",
        "colab_type": "text"
      },
      "source": [
        "<a href=\"https://colab.research.google.com/github/p-garden/dustmqdyd/blob/main/1week_test.ipynb\" target=\"_parent\"><img src=\"https://colab.research.google.com/assets/colab-badge.svg\" alt=\"Open In Colab\"/></a>"
      ]
    },
    {
      "cell_type": "markdown",
      "source": [
        "# **1주차 1번문제(이론)**"
      ],
      "metadata": {
        "id": "VorNCZl8ds_B"
      }
    },
    {
      "cell_type": "markdown",
      "source": [
        "# 문제\n",
        "\n",
        "결과\n",
        "[[ 1  2  3  4 13 14 15 16]\n",
        " [ 5  6  7  8 17 18 19 20]\n",
        " [ 9 10 11 12 21 22 23 24]] \n",
        "\n",
        "코드\n",
        "arr1 = np.arange(1, 7).reshape(3, 2)\n",
        "arr2 = np.arange(13, 19).reshape(3, 2)\n",
        "\n",
        "arr3 = np.append(arr2, arr1, axis = 0)\n",
        "print(arr3)\n",
        "\n",
        "위의 코드가 결과를 만드는 코드인데 잘못된 코드이다. 코드를 올바르게 고치자"
      ],
      "metadata": {
        "id": "qtvkGjvKeF6g"
      }
    },
    {
      "cell_type": "code",
      "execution_count": null,
      "metadata": {
        "colab": {
          "base_uri": "https://localhost:8080/"
        },
        "id": "QuLGayuNwblw",
        "outputId": "07490d97-71e2-4a35-f55a-2454ebb14f0e"
      },
      "outputs": [
        {
          "output_type": "stream",
          "name": "stdout",
          "text": [
            "[[ 1  2]\n",
            " [ 3  4]\n",
            " [ 5  6]\n",
            " [13 14]\n",
            " [15 16]\n",
            " [17 18]]\n"
          ]
        }
      ],
      "source": [
        "import numpy as np\n",
        "\n",
        "arr1 = np.arange(1, 7).reshape(3, 2)\n",
        "arr2 = np.arange(13, 19).reshape(3, 2)\n",
        "arr3 = np.append(arr1, arr2, axis = 0)\n",
        "print(arr3)"
      ]
    },
    {
      "cell_type": "code",
      "source": [
        "arr1 = np.arange(1,25).reshape(6,4)\n",
        "arr3 = np.arange(1,25).reshape(3,8)\n",
        "for i in np.arange(3):\n",
        "  arr2 = np.append(arr1[i],arr1[i+3],axis=0)\n",
        "  arr3[i] = arr2  \n",
        "print(arr3)\n"
      ],
      "metadata": {
        "colab": {
          "base_uri": "https://localhost:8080/"
        },
        "id": "0FQ3bNJ3xtlA",
        "outputId": "5a8db6b2-314a-42ab-f6c0-5aa56fdc8052"
      },
      "execution_count": null,
      "outputs": [
        {
          "output_type": "stream",
          "name": "stdout",
          "text": [
            "[[ 1  2  3  4 13 14 15 16]\n",
            " [ 5  6  7  8 17 18 19 20]\n",
            " [ 9 10 11 12 21 22 23 24]]\n"
          ]
        }
      ]
    },
    {
      "cell_type": "markdown",
      "source": [
        "# **1주차 2번문제 (이론)**"
      ],
      "metadata": {
        "id": "qNylOHgdd_-O"
      }
    },
    {
      "cell_type": "markdown",
      "source": [
        "## 문제내용\n",
        "Dataset에 대한 설명 중 틀린 것을 모두 골라 주세요.\n",
        "\n",
        "1. 학습이 끝난 후 모델 평가에 쓰이는 Test set은 Train set에서 사용하지 않은 데이터여야 한다.\n",
        "  -> 맞는 내용 \n",
        "\n",
        "2. 1.의 이유는 평가를 할 때에는 모델이 본 적있는 데이터가 아닌 처음 보는 데이터로 해야하기 때문이다.\n",
        "  -> 맞는 내용\n",
        "\n",
        "3. Dataset을 Train set : Test set = 1 : 1 비율로 나누면 Overfitting이 발생할 수 있다.\n",
        "  -> 맞는 내용\n",
        "\n",
        "4. Overfitting을 방지하기 위한 방법으로 Validation set를 만드는 방법이 있다.\n",
        "  -> 맞는 내용\n",
        "\n",
        "5. Validation set의 사용 목적은 Test set과 일치한다.\n",
        "\n",
        "  -> validation set와 test set모두 training set의 성능을 평가한다는 목적은 일치하지만,  validation set는 여러모델 중 최적의 모델을 고르는데 중점이 맞쳐져있다면, test set는 최종모델의 최종 결과를 예측하는데 쓰인다."
      ],
      "metadata": {
        "id": "4hfkub1EehM9"
      }
    },
    {
      "cell_type": "markdown",
      "source": [
        "# **1주차 3번 문제 (실습)**"
      ],
      "metadata": {
        "id": "vRoRxE1ThTES"
      }
    },
    {
      "cell_type": "markdown",
      "source": [
        "## 문제내용\n",
        "\n",
        "사이킷런에는 다양한 데이터셋이 준비되어 있어요.\n",
        "\n",
        "우리는 간단하게 코드 두 줄로 그 데이터셋을 불러올 수가 있는데요!\n",
        "\n",
        "```python\n",
        "from sklearn.datasets import load_wine\n",
        "wine = load_wine\n",
        "```\n",
        "\n",
        "이렇게 작성한다면 wine이라는 변수 안에 와인에 대한 데이터가 들어간답니다.\n",
        "\n",
        "그럼 이제 해당 데이터셋을 가지고 `print(wine.DESCR)` 을 한 뒤 feature을 위에 네 개를 사용해주세요 . \n",
        "\n",
        "matplotlib을 사용해서 scatter(산점도)를 출력을 해주세요! x,y 축은 다음과 같은 값을 사용해주시길 바랍니다.\n",
        "\n",
        "- 알콜(Alcohol) -x\n",
        "- 말산(Malic acid) -y\n",
        "- 회분(Ash) -x\n",
        "- 회분의 알칼리도(Alcalinity of ash) -y\n",
        "\n",
        "해당 그래프를 그리는 법은 혼공머신 교재에서 배웠으니깐 \n",
        "\n",
        "해당 데이터셋이 어떤 feature로 이루어져 있는지만 확인해보면 되겠죠?\n",
        "\n",
        "여기서 pandas 모듈에 있는 DataFrame이라는 메소드를 한번 사용해보세요~"
      ],
      "metadata": {
        "id": "O79vWvkMjOXq"
      }
    },
    {
      "cell_type": "code",
      "source": [
        "from sklearn.datasets import load_wine\n",
        "wine = load_wine()\n"
      ],
      "metadata": {
        "id": "Fp6-u5WsdL9m"
      },
      "execution_count": 9,
      "outputs": []
    },
    {
      "cell_type": "code",
      "source": [
        "import pandas as pd\n",
        "print(wine.DESCR)\n"
      ],
      "metadata": {
        "colab": {
          "base_uri": "https://localhost:8080/"
        },
        "id": "HoFzBFK-hk63",
        "outputId": "3aa28814-a920-4b78-f339-8d3c084df1fa"
      },
      "execution_count": 15,
      "outputs": [
        {
          "output_type": "stream",
          "name": "stdout",
          "text": [
            ".. _wine_dataset:\n",
            "\n",
            "Wine recognition dataset\n",
            "------------------------\n",
            "\n",
            "**Data Set Characteristics:**\n",
            "\n",
            "    :Number of Instances: 178\n",
            "    :Number of Attributes: 13 numeric, predictive attributes and the class\n",
            "    :Attribute Information:\n",
            " \t\t- Alcohol\n",
            " \t\t- Malic acid\n",
            " \t\t- Ash\n",
            "\t\t- Alcalinity of ash  \n",
            " \t\t- Magnesium\n",
            "\t\t- Total phenols\n",
            " \t\t- Flavanoids\n",
            " \t\t- Nonflavanoid phenols\n",
            " \t\t- Proanthocyanins\n",
            "\t\t- Color intensity\n",
            " \t\t- Hue\n",
            " \t\t- OD280/OD315 of diluted wines\n",
            " \t\t- Proline\n",
            "\n",
            "    - class:\n",
            "            - class_0\n",
            "            - class_1\n",
            "            - class_2\n",
            "\t\t\n",
            "    :Summary Statistics:\n",
            "    \n",
            "    ============================= ==== ===== ======= =====\n",
            "                                   Min   Max   Mean     SD\n",
            "    ============================= ==== ===== ======= =====\n",
            "    Alcohol:                      11.0  14.8    13.0   0.8\n",
            "    Malic Acid:                   0.74  5.80    2.34  1.12\n",
            "    Ash:                          1.36  3.23    2.36  0.27\n",
            "    Alcalinity of Ash:            10.6  30.0    19.5   3.3\n",
            "    Magnesium:                    70.0 162.0    99.7  14.3\n",
            "    Total Phenols:                0.98  3.88    2.29  0.63\n",
            "    Flavanoids:                   0.34  5.08    2.03  1.00\n",
            "    Nonflavanoid Phenols:         0.13  0.66    0.36  0.12\n",
            "    Proanthocyanins:              0.41  3.58    1.59  0.57\n",
            "    Colour Intensity:              1.3  13.0     5.1   2.3\n",
            "    Hue:                          0.48  1.71    0.96  0.23\n",
            "    OD280/OD315 of diluted wines: 1.27  4.00    2.61  0.71\n",
            "    Proline:                       278  1680     746   315\n",
            "    ============================= ==== ===== ======= =====\n",
            "\n",
            "    :Missing Attribute Values: None\n",
            "    :Class Distribution: class_0 (59), class_1 (71), class_2 (48)\n",
            "    :Creator: R.A. Fisher\n",
            "    :Donor: Michael Marshall (MARSHALL%PLU@io.arc.nasa.gov)\n",
            "    :Date: July, 1988\n",
            "\n",
            "This is a copy of UCI ML Wine recognition datasets.\n",
            "https://archive.ics.uci.edu/ml/machine-learning-databases/wine/wine.data\n",
            "\n",
            "The data is the results of a chemical analysis of wines grown in the same\n",
            "region in Italy by three different cultivators. There are thirteen different\n",
            "measurements taken for different constituents found in the three types of\n",
            "wine.\n",
            "\n",
            "Original Owners: \n",
            "\n",
            "Forina, M. et al, PARVUS - \n",
            "An Extendible Package for Data Exploration, Classification and Correlation. \n",
            "Institute of Pharmaceutical and Food Analysis and Technologies,\n",
            "Via Brigata Salerno, 16147 Genoa, Italy.\n",
            "\n",
            "Citation:\n",
            "\n",
            "Lichman, M. (2013). UCI Machine Learning Repository\n",
            "[https://archive.ics.uci.edu/ml]. Irvine, CA: University of California,\n",
            "School of Information and Computer Science. \n",
            "\n",
            ".. topic:: References\n",
            "\n",
            "  (1) S. Aeberhard, D. Coomans and O. de Vel, \n",
            "  Comparison of Classifiers in High Dimensional Settings, \n",
            "  Tech. Rep. no. 92-02, (1992), Dept. of Computer Science and Dept. of  \n",
            "  Mathematics and Statistics, James Cook University of North Queensland. \n",
            "  (Also submitted to Technometrics). \n",
            "\n",
            "  The data was used with many others for comparing various \n",
            "  classifiers. The classes are separable, though only RDA \n",
            "  has achieved 100% correct classification. \n",
            "  (RDA : 100%, QDA 99.4%, LDA 98.9%, 1NN 96.1% (z-transformed data)) \n",
            "  (All results using the leave-one-out technique) \n",
            "\n",
            "  (2) S. Aeberhard, D. Coomans and O. de Vel, \n",
            "  \"THE CLASSIFICATION PERFORMANCE OF RDA\" \n",
            "  Tech. Rep. no. 92-01, (1992), Dept. of Computer Science and Dept. of \n",
            "  Mathematics and Statistics, James Cook University of North Queensland. \n",
            "  (Also submitted to Journal of Chemometrics).\n",
            "\n"
          ]
        }
      ]
    },
    {
      "cell_type": "code",
      "source": [
        "data = wine['data']\n",
        "name = wine['feature_names']\n",
        "print(name)"
      ],
      "metadata": {
        "colab": {
          "base_uri": "https://localhost:8080/"
        },
        "id": "gQNJjafni4F_",
        "outputId": "28cb5be0-5dba-43af-bdf8-0e0cde616e64"
      },
      "execution_count": 23,
      "outputs": [
        {
          "output_type": "stream",
          "name": "stdout",
          "text": [
            "['alcohol', 'malic_acid', 'ash', 'alcalinity_of_ash', 'magnesium', 'total_phenols', 'flavanoids', 'nonflavanoid_phenols', 'proanthocyanins', 'color_intensity', 'hue', 'od280/od315_of_diluted_wines', 'proline']\n"
          ]
        }
      ]
    },
    {
      "cell_type": "code",
      "source": [
        "wine_target = wine['target']\n",
        "print(wine_target)"
      ],
      "metadata": {
        "colab": {
          "base_uri": "https://localhost:8080/"
        },
        "id": "91zXSsE5mCvf",
        "outputId": "26595e5f-8006-4d87-a6c4-81ac8f422fbc"
      },
      "execution_count": 32,
      "outputs": [
        {
          "output_type": "stream",
          "name": "stdout",
          "text": [
            "[0 0 0 0 0 0 0 0 0 0 0 0 0 0 0 0 0 0 0 0 0 0 0 0 0 0 0 0 0 0 0 0 0 0 0 0 0\n",
            " 0 0 0 0 0 0 0 0 0 0 0 0 0 0 0 0 0 0 0 0 0 0 1 1 1 1 1 1 1 1 1 1 1 1 1 1 1\n",
            " 1 1 1 1 1 1 1 1 1 1 1 1 1 1 1 1 1 1 1 1 1 1 1 1 1 1 1 1 1 1 1 1 1 1 1 1 1\n",
            " 1 1 1 1 1 1 1 1 1 1 1 1 1 1 1 1 1 1 1 2 2 2 2 2 2 2 2 2 2 2 2 2 2 2 2 2 2\n",
            " 2 2 2 2 2 2 2 2 2 2 2 2 2 2 2 2 2 2 2 2 2 2 2 2 2 2 2 2 2 2]\n"
          ]
        }
      ]
    },
    {
      "cell_type": "code",
      "source": [
        "df = pd.DataFrame(data, columns = name)\n",
        "print(df['alcohol'])\n",
        "print(df)"
      ],
      "metadata": {
        "colab": {
          "base_uri": "https://localhost:8080/",
          "height": 357
        },
        "id": "KcTZd618kjsx",
        "outputId": "7827f9a5-8485-4a95-958b-cfd247262984"
      },
      "execution_count": 50,
      "outputs": [
        {
          "output_type": "error",
          "ename": "KeyError",
          "evalue": "ignored",
          "traceback": [
            "\u001b[0;31m---------------------------------------------------------------------------\u001b[0m",
            "\u001b[0;31mKeyError\u001b[0m                                  Traceback (most recent call last)",
            "\u001b[0;32m<ipython-input-50-29fd4863fa74>\u001b[0m in \u001b[0;36m<module>\u001b[0;34m\u001b[0m\n\u001b[1;32m      1\u001b[0m \u001b[0mdf\u001b[0m \u001b[0;34m=\u001b[0m \u001b[0mpd\u001b[0m\u001b[0;34m.\u001b[0m\u001b[0mDataFrame\u001b[0m\u001b[0;34m(\u001b[0m\u001b[0mdata\u001b[0m\u001b[0;34m,\u001b[0m \u001b[0mcolumns\u001b[0m \u001b[0;34m=\u001b[0m \u001b[0mname\u001b[0m\u001b[0;34m)\u001b[0m\u001b[0;34m\u001b[0m\u001b[0;34m\u001b[0m\u001b[0m\n\u001b[0;32m----> 2\u001b[0;31m \u001b[0mprint\u001b[0m\u001b[0;34m(\u001b[0m\u001b[0mdf\u001b[0m\u001b[0;34m[\u001b[0m\u001b[0;34m'alcohol'\u001b[0m\u001b[0;34m]\u001b[0m\u001b[0;34m[\u001b[0m\u001b[0;34m'mean'\u001b[0m\u001b[0;34m]\u001b[0m\u001b[0;34m)\u001b[0m\u001b[0;34m\u001b[0m\u001b[0;34m\u001b[0m\u001b[0m\n\u001b[0m\u001b[1;32m      3\u001b[0m \u001b[0mprint\u001b[0m\u001b[0;34m(\u001b[0m\u001b[0mdf\u001b[0m\u001b[0;34m)\u001b[0m\u001b[0;34m\u001b[0m\u001b[0;34m\u001b[0m\u001b[0m\n",
            "\u001b[0;32m/usr/local/lib/python3.9/dist-packages/pandas/core/series.py\u001b[0m in \u001b[0;36m__getitem__\u001b[0;34m(self, key)\u001b[0m\n\u001b[1;32m    940\u001b[0m \u001b[0;34m\u001b[0m\u001b[0m\n\u001b[1;32m    941\u001b[0m         \u001b[0;32melif\u001b[0m \u001b[0mkey_is_scalar\u001b[0m\u001b[0;34m:\u001b[0m\u001b[0;34m\u001b[0m\u001b[0;34m\u001b[0m\u001b[0m\n\u001b[0;32m--> 942\u001b[0;31m             \u001b[0;32mreturn\u001b[0m \u001b[0mself\u001b[0m\u001b[0;34m.\u001b[0m\u001b[0m_get_value\u001b[0m\u001b[0;34m(\u001b[0m\u001b[0mkey\u001b[0m\u001b[0;34m)\u001b[0m\u001b[0;34m\u001b[0m\u001b[0;34m\u001b[0m\u001b[0m\n\u001b[0m\u001b[1;32m    943\u001b[0m \u001b[0;34m\u001b[0m\u001b[0m\n\u001b[1;32m    944\u001b[0m         \u001b[0;32mif\u001b[0m \u001b[0mis_hashable\u001b[0m\u001b[0;34m(\u001b[0m\u001b[0mkey\u001b[0m\u001b[0;34m)\u001b[0m\u001b[0;34m:\u001b[0m\u001b[0;34m\u001b[0m\u001b[0;34m\u001b[0m\u001b[0m\n",
            "\u001b[0;32m/usr/local/lib/python3.9/dist-packages/pandas/core/series.py\u001b[0m in \u001b[0;36m_get_value\u001b[0;34m(self, label, takeable)\u001b[0m\n\u001b[1;32m   1049\u001b[0m \u001b[0;34m\u001b[0m\u001b[0m\n\u001b[1;32m   1050\u001b[0m         \u001b[0;31m# Similar to Index.get_value, but we do not fall back to positional\u001b[0m\u001b[0;34m\u001b[0m\u001b[0;34m\u001b[0m\u001b[0m\n\u001b[0;32m-> 1051\u001b[0;31m         \u001b[0mloc\u001b[0m \u001b[0;34m=\u001b[0m \u001b[0mself\u001b[0m\u001b[0;34m.\u001b[0m\u001b[0mindex\u001b[0m\u001b[0;34m.\u001b[0m\u001b[0mget_loc\u001b[0m\u001b[0;34m(\u001b[0m\u001b[0mlabel\u001b[0m\u001b[0;34m)\u001b[0m\u001b[0;34m\u001b[0m\u001b[0;34m\u001b[0m\u001b[0m\n\u001b[0m\u001b[1;32m   1052\u001b[0m         \u001b[0;32mreturn\u001b[0m \u001b[0mself\u001b[0m\u001b[0;34m.\u001b[0m\u001b[0mindex\u001b[0m\u001b[0;34m.\u001b[0m\u001b[0m_get_values_for_loc\u001b[0m\u001b[0;34m(\u001b[0m\u001b[0mself\u001b[0m\u001b[0;34m,\u001b[0m \u001b[0mloc\u001b[0m\u001b[0;34m,\u001b[0m \u001b[0mlabel\u001b[0m\u001b[0;34m)\u001b[0m\u001b[0;34m\u001b[0m\u001b[0;34m\u001b[0m\u001b[0m\n\u001b[1;32m   1053\u001b[0m \u001b[0;34m\u001b[0m\u001b[0m\n",
            "\u001b[0;32m/usr/local/lib/python3.9/dist-packages/pandas/core/indexes/range.py\u001b[0m in \u001b[0;36mget_loc\u001b[0;34m(self, key, method, tolerance)\u001b[0m\n\u001b[1;32m    386\u001b[0m                 \u001b[0;32mexcept\u001b[0m \u001b[0mValueError\u001b[0m \u001b[0;32mas\u001b[0m \u001b[0merr\u001b[0m\u001b[0;34m:\u001b[0m\u001b[0;34m\u001b[0m\u001b[0;34m\u001b[0m\u001b[0m\n\u001b[1;32m    387\u001b[0m                     \u001b[0;32mraise\u001b[0m \u001b[0mKeyError\u001b[0m\u001b[0;34m(\u001b[0m\u001b[0mkey\u001b[0m\u001b[0;34m)\u001b[0m \u001b[0;32mfrom\u001b[0m \u001b[0merr\u001b[0m\u001b[0;34m\u001b[0m\u001b[0;34m\u001b[0m\u001b[0m\n\u001b[0;32m--> 388\u001b[0;31m             \u001b[0;32mraise\u001b[0m \u001b[0mKeyError\u001b[0m\u001b[0;34m(\u001b[0m\u001b[0mkey\u001b[0m\u001b[0;34m)\u001b[0m\u001b[0;34m\u001b[0m\u001b[0;34m\u001b[0m\u001b[0m\n\u001b[0m\u001b[1;32m    389\u001b[0m         \u001b[0;32mreturn\u001b[0m \u001b[0msuper\u001b[0m\u001b[0;34m(\u001b[0m\u001b[0;34m)\u001b[0m\u001b[0;34m.\u001b[0m\u001b[0mget_loc\u001b[0m\u001b[0;34m(\u001b[0m\u001b[0mkey\u001b[0m\u001b[0;34m,\u001b[0m \u001b[0mmethod\u001b[0m\u001b[0;34m=\u001b[0m\u001b[0mmethod\u001b[0m\u001b[0;34m,\u001b[0m \u001b[0mtolerance\u001b[0m\u001b[0;34m=\u001b[0m\u001b[0mtolerance\u001b[0m\u001b[0;34m)\u001b[0m\u001b[0;34m\u001b[0m\u001b[0;34m\u001b[0m\u001b[0m\n\u001b[1;32m    390\u001b[0m \u001b[0;34m\u001b[0m\u001b[0m\n",
            "\u001b[0;31mKeyError\u001b[0m: 'mean'"
          ]
        }
      ]
    },
    {
      "cell_type": "code",
      "source": [
        "import matplotlib.pyplot as plt\n",
        "plt.scatter(df['alcohol'], df['malic_acid'],c=wine_target, marker = '^')\n",
        "plt.scatter(df['ash'], df['alcalinity_of_ash'],c=wine_target)\n",
        "plt.show()"
      ],
      "metadata": {
        "colab": {
          "base_uri": "https://localhost:8080/",
          "height": 265
        },
        "id": "OdozwffUk85f",
        "outputId": "ca66b917-d09a-4196-a11e-8ecb6345b17e"
      },
      "execution_count": 49,
      "outputs": [
        {
          "output_type": "display_data",
          "data": {
            "text/plain": [
              "<Figure size 432x288 with 1 Axes>"
            ],
            "image/png": "[encoded data removed]"
          },
          "metadata": {
            "needs_background": "light"
          }
        }
      ]
    },
    {
      "cell_type": "markdown",
      "source": [
        "# **1주차 4번문제(실습)**"
      ],
      "metadata": {
        "id": "cqeikwq2tskU"
      }
    },
    {
      "cell_type": "markdown",
      "source": [
        "## 문제내용\n",
        "\n",
        "3번 문제의 연장선입니다!\n",
        "\n",
        "2장에서 데이터 전처리를 하는 법을 배웠어요! 그러면 이 wine data로도 한번 해볼까요?\n",
        "\n",
        "각 feature별로 평균과 표준편차를 이용해서 표준화를 해주세요!\n",
        "\n",
        "방법은 자유이고 3번의 출력처럼 scatter plot를 코드와 함께 제출해주세요!"
      ],
      "metadata": {
        "id": "VmCCAzNDt9pY"
      }
    },
    {
      "cell_type": "code",
      "source": [
        "import numpy as np\n",
        "alc_ = (df['alcohol'] - np.mean(df['alcohol'], axis = 0)) / np.std(df['alcohol'], axis = 0)\n",
        "malic_ = (df['malic_acid'] - np.mean(df['malic_acid'], axis = 0)) / np.std(df['malic_acid'], axis = 0)\n",
        "ash_ = (df['ash'] - np.mean(df['ash'], axis = 0)) / np.std(df['ash'], axis = 0)\n",
        "aoa_ = (df['alcalinity_of_ash'] - np.mean(df['alcalinity_of_ash'], axis = 0)) / np.std(df['alcalinity_of_ash'], axis = 0)"
      ],
      "metadata": {
        "id": "G80uKw2UtwMC"
      },
      "execution_count": 63,
      "outputs": []
    },
    {
      "cell_type": "code",
      "source": [
        "plt.scatter(alc_, malic_,c=wine_target, marker = '^')\n",
        "plt.scatter(ash_,aoa_,c=wine_target)\n",
        "plt.show()"
      ],
      "metadata": {
        "colab": {
          "base_uri": "https://localhost:8080/",
          "height": 265
        },
        "id": "1fpSEuXqtwWA",
        "outputId": "282b8b56-d32a-4be1-bd25-0bf6e0c64146"
      },
      "execution_count": 65,
      "outputs": [
        {
          "output_type": "display_data",
          "data": {
            "text/plain": [
              "<Figure size 432x288 with 1 Axes>"
            ],
            "image/png": "[encoded data removed]"
          },
          "metadata": {
            "needs_background": "light"
          }
        }
      ]
    },
    {
      "cell_type": "markdown",
      "source": [
        "# **1주차 5번문제(실습)**\n",
        "\n"
      ],
      "metadata": {
        "id": "nnR-7eswwT40"
      }
    },
    {
      "cell_type": "code",
      "source": [
        "from google.colab import drive\n",
        "drive.mount('/content/drive')"
      ],
      "metadata": {
        "colab": {
          "base_uri": "https://localhost:8080/"
        },
        "id": "RlmHbBs8k1MG",
        "outputId": "fe561ff1-fabc-4023-d852-a14000d08f2c"
      },
      "execution_count": 66,
      "outputs": [
        {
          "output_type": "stream",
          "name": "stdout",
          "text": [
            "Mounted at /content/drive\n"
          ]
        }
      ]
    },
    {
      "cell_type": "code",
      "source": [
        "import pandas as pd\n",
        "\n",
        "# csv 파일 경로는 여러분이 파일을 어디에 놓으냐에 따라 달라질 수 있습니다.\n",
        "data_path = '/Fish.csv'\n",
        "df = pd.read_csv(data_path)\n",
        "df"
      ],
      "metadata": {
        "colab": {
          "base_uri": "https://localhost:8080/",
          "height": 423
        },
        "id": "zGLYHSucxVlg",
        "outputId": "0cd823ce-5af2-4e6e-d449-dfb4932dd8c8"
      },
      "execution_count": 115,
      "outputs": [
        {
          "output_type": "execute_result",
          "data": {
            "text/plain": [
              "    Species  Weight  Length1  Length2  Length3   Height   Width\n",
              "0     Bream   242.0     23.2     25.4     30.0  11.5200  4.0200\n",
              "1     Bream   290.0     24.0     26.3     31.2  12.4800  4.3056\n",
              "2     Bream   340.0     23.9     26.5     31.1  12.3778  4.6961\n",
              "3     Bream   363.0     26.3     29.0     33.5  12.7300  4.4555\n",
              "4     Bream   430.0     26.5     29.0     34.0  12.4440  5.1340\n",
              "..      ...     ...      ...      ...      ...      ...     ...\n",
              "154   Smelt    12.2     11.5     12.2     13.4   2.0904  1.3936\n",
              "155   Smelt    13.4     11.7     12.4     13.5   2.4300  1.2690\n",
              "156   Smelt    12.2     12.1     13.0     13.8   2.2770  1.2558\n",
              "157   Smelt    19.7     13.2     14.3     15.2   2.8728  2.0672\n",
              "158   Smelt    19.9     13.8     15.0     16.2   2.9322  1.8792\n",
              "\n",
              "[159 rows x 7 columns]"
            ],
            "text/html": [
              "\n",
              "  <div id=\"df-bd9f0998-df87-4c13-988b-a701eae39c2e\">\n",
              "    <div class=\"colab-df-container\">\n",
              "      <div>\n",
              "<style scoped>\n",
              "    .dataframe tbody tr th:only-of-type {\n",
              "        vertical-align: middle;\n",
              "    }\n",
              "\n",
              "    .dataframe tbody tr th {\n",
              "        vertical-align: top;\n",
              "    }\n",
              "\n",
              "    .dataframe thead th {\n",
              "        text-align: right;\n",
              "    }\n",
              "</style>\n",
              "<table border=\"1\" class=\"dataframe\">\n",
              "  <thead>\n",
              "    <tr style=\"text-align: right;\">\n",
              "      <th></th>\n",
              "      <th>Species</th>\n",
              "      <th>Weight</th>\n",
              "      <th>Length1</th>\n",
              "      <th>Length2</th>\n",
              "      <th>Length3</th>\n",
              "      <th>Height</th>\n",
              "      <th>Width</th>\n",
              "    </tr>\n",
              "  </thead>\n",
              "  <tbody>\n",
              "    <tr>\n",
              "      <th>0</th>\n",
              "      <td>Bream</td>\n",
              "      <td>242.0</td>\n",
              "      <td>23.2</td>\n",
              "      <td>25.4</td>\n",
              "      <td>30.0</td>\n",
              "      <td>11.5200</td>\n",
              "      <td>4.0200</td>\n",
              "    </tr>\n",
              "    <tr>\n",
              "      <th>1</th>\n",
              "      <td>Bream</td>\n",
              "      <td>290.0</td>\n",
              "      <td>24.0</td>\n",
              "      <td>26.3</td>\n",
              "      <td>31.2</td>\n",
              "      <td>12.4800</td>\n",
              "      <td>4.3056</td>\n",
              "    </tr>\n",
              "    <tr>\n",
              "      <th>2</th>\n",
              "      <td>Bream</td>\n",
              "      <td>340.0</td>\n",
              "      <td>23.9</td>\n",
              "      <td>26.5</td>\n",
              "      <td>31.1</td>\n",
              "      <td>12.3778</td>\n",
              "      <td>4.6961</td>\n",
              "    </tr>\n",
              "    <tr>\n",
              "      <th>3</th>\n",
              "      <td>Bream</td>\n",
              "      <td>363.0</td>\n",
              "      <td>26.3</td>\n",
              "      <td>29.0</td>\n",
              "      <td>33.5</td>\n",
              "      <td>12.7300</td>\n",
              "      <td>4.4555</td>\n",
              "    </tr>\n",
              "    <tr>\n",
              "      <th>4</th>\n",
              "      <td>Bream</td>\n",
              "      <td>430.0</td>\n",
              "      <td>26.5</td>\n",
              "      <td>29.0</td>\n",
              "      <td>34.0</td>\n",
              "      <td>12.4440</td>\n",
              "      <td>5.1340</td>\n",
              "    </tr>\n",
              "    <tr>\n",
              "      <th>...</th>\n",
              "      <td>...</td>\n",
              "      <td>...</td>\n",
              "      <td>...</td>\n",
              "      <td>...</td>\n",
              "      <td>...</td>\n",
              "      <td>...</td>\n",
              "      <td>...</td>\n",
              "    </tr>\n",
              "    <tr>\n",
              "      <th>154</th>\n",
              "      <td>Smelt</td>\n",
              "      <td>12.2</td>\n",
              "      <td>11.5</td>\n",
              "      <td>12.2</td>\n",
              "      <td>13.4</td>\n",
              "      <td>2.0904</td>\n",
              "      <td>1.3936</td>\n",
              "    </tr>\n",
              "    <tr>\n",
              "      <th>155</th>\n",
              "      <td>Smelt</td>\n",
              "      <td>13.4</td>\n",
              "      <td>11.7</td>\n",
              "      <td>12.4</td>\n",
              "      <td>13.5</td>\n",
              "      <td>2.4300</td>\n",
              "      <td>1.2690</td>\n",
              "    </tr>\n",
              "    <tr>\n",
              "      <th>156</th>\n",
              "      <td>Smelt</td>\n",
              "      <td>12.2</td>\n",
              "      <td>12.1</td>\n",
              "      <td>13.0</td>\n",
              "      <td>13.8</td>\n",
              "      <td>2.2770</td>\n",
              "      <td>1.2558</td>\n",
              "    </tr>\n",
              "    <tr>\n",
              "      <th>157</th>\n",
              "      <td>Smelt</td>\n",
              "      <td>19.7</td>\n",
              "      <td>13.2</td>\n",
              "      <td>14.3</td>\n",
              "      <td>15.2</td>\n",
              "      <td>2.8728</td>\n",
              "      <td>2.0672</td>\n",
              "    </tr>\n",
              "    <tr>\n",
              "      <th>158</th>\n",
              "      <td>Smelt</td>\n",
              "      <td>19.9</td>\n",
              "      <td>13.8</td>\n",
              "      <td>15.0</td>\n",
              "      <td>16.2</td>\n",
              "      <td>2.9322</td>\n",
              "      <td>1.8792</td>\n",
              "    </tr>\n",
              "  </tbody>\n",
              "</table>\n",
              "<p>159 rows × 7 columns</p>\n",
              "</div>\n",
              "      <button class=\"colab-df-convert\" onclick=\"convertToInteractive('df-bd9f0998-df87-4c13-988b-a701eae39c2e')\"\n",
              "              title=\"Convert this dataframe to an interactive table.\"\n",
              "              style=\"display:none;\">\n",
              "        \n",
              "  <svg xmlns=\"http://www.w3.org/2000/svg\" height=\"24px\"viewBox=\"0 0 24 24\"\n",
              "       width=\"24px\">\n",
              "    <path d=\"M0 0h24v24H0V0z\" fill=\"none\"/>\n",
              "    <path d=\"M18.56 5.44l.94 2.06.94-2.06 2.06-.94-2.06-.94-.94-2.06-.94 2.06-2.06.94zm-11 1L8.5 8.5l.94-2.06 2.06-.94-2.06-.94L8.5 2.5l-.94 2.06-2.06.94zm10 10l.94 2.06.94-2.06 2.06-.94-2.06-.94-.94-2.06-.94 2.06-2.06.94z\"/><path d=\"M17.41 7.96l-1.37-1.37c-.4-.4-.92-.59-1.43-.59-.52 0-1.04.2-1.43.59L10.3 9.45l-7.72 7.72c-.78.78-.78 2.05 0 2.83L4 21.41c.39.39.9.59 1.41.59.51 0 1.02-.2 1.41-.59l7.78-7.78 2.81-2.81c.8-.78.8-2.07 0-2.86zM5.41 20L4 18.59l7.72-7.72 1.47 1.35L5.41 20z\"/>\n",
              "  </svg>\n",
              "      </button>\n",
              "      \n",
              "  <style>\n",
              "    .colab-df-container {\n",
              "      display:flex;\n",
              "      flex-wrap:wrap;\n",
              "      gap: 12px;\n",
              "    }\n",
              "\n",
              "    .colab-df-convert {\n",
              "      background-color: #E8F0FE;\n",
              "      border: none;\n",
              "      border-radius: 50%;\n",
              "      cursor: pointer;\n",
              "      display: none;\n",
              "      fill: #1967D2;\n",
              "      height: 32px;\n",
              "      padding: 0 0 0 0;\n",
              "      width: 32px;\n",
              "    }\n",
              "\n",
              "    .colab-df-convert:hover {\n",
              "      background-color: #E2EBFA;\n",
              "      box-shadow: 0px 1px 2px rgba(60, 64, 67, 0.3), 0px 1px 3px 1px rgba(60, 64, 67, 0.15);\n",
              "      fill: #174EA6;\n",
              "    }\n",
              "\n",
              "    [theme=dark] .colab-df-convert {\n",
              "      background-color: #3B4455;\n",
              "      fill: #D2E3FC;\n",
              "    }\n",
              "\n",
              "    [theme=dark] .colab-df-convert:hover {\n",
              "      background-color: #434B5C;\n",
              "      box-shadow: 0px 1px 3px 1px rgba(0, 0, 0, 0.15);\n",
              "      filter: drop-shadow(0px 1px 2px rgba(0, 0, 0, 0.3));\n",
              "      fill: #FFFFFF;\n",
              "    }\n",
              "  </style>\n",
              "\n",
              "      <script>\n",
              "        const buttonEl =\n",
              "          document.querySelector('#df-bd9f0998-df87-4c13-988b-a701eae39c2e button.colab-df-convert');\n",
              "        buttonEl.style.display =\n",
              "          google.colab.kernel.accessAllowed ? 'block' : 'none';\n",
              "\n",
              "        async function convertToInteractive(key) {\n",
              "          const element = document.querySelector('#df-bd9f0998-df87-4c13-988b-a701eae39c2e');\n",
              "          const dataTable =\n",
              "            await google.colab.kernel.invokeFunction('convertToInteractive',\n",
              "                                                     [key], {});\n",
              "          if (!dataTable) return;\n",
              "\n",
              "          const docLinkHtml = 'Like what you see? Visit the ' +\n",
              "            '<a target=\"_blank\" href=https://colab.research.google.com/notebooks/data_table.ipynb>data table notebook</a>'\n",
              "            + ' to learn more about interactive tables.';\n",
              "          element.innerHTML = '';\n",
              "          dataTable['output_type'] = 'display_data';\n",
              "          await google.colab.output.renderOutput(dataTable, element);\n",
              "          const docLink = document.createElement('div');\n",
              "          docLink.innerHTML = docLinkHtml;\n",
              "          element.appendChild(docLink);\n",
              "        }\n",
              "      </script>\n",
              "    </div>\n",
              "  </div>\n",
              "  "
            ]
          },
          "metadata": {},
          "execution_count": 115
        }
      ]
    },
    {
      "cell_type": "code",
      "source": [
        "fish_pick = df[ (df['Species'] == 'Bream' ) | (df['Species'] =='Perch') | (df['Species'] =='Smelt')] #이부분 채우기\n",
        "# 그리고 나중을 위해 Bream, Perch, Smelt를 각각 0, 1, 2로 바꿔줄게요.\n",
        "fish_pick = fish_pick.replace({'Bream': 0, 'Perch': 1, 'Smelt': 2})\n",
        "fish_pick"
      ],
      "metadata": {
        "colab": {
          "base_uri": "https://localhost:8080/",
          "height": 2227
        },
        "id": "HjR6JAVvxWZJ",
        "outputId": "bff8e02b-c3ca-414c-ae95-f6d0c7e6b557"
      },
      "execution_count": 119,
      "outputs": [
        {
          "output_type": "execute_result",
          "data": {
            "text/plain": [
              "     Species  Weight  Length1  Length2  Length3   Height   Width\n",
              "0          0   242.0     23.2     25.4     30.0  11.5200  4.0200\n",
              "1          0   290.0     24.0     26.3     31.2  12.4800  4.3056\n",
              "2          0   340.0     23.9     26.5     31.1  12.3778  4.6961\n",
              "3          0   363.0     26.3     29.0     33.5  12.7300  4.4555\n",
              "4          0   430.0     26.5     29.0     34.0  12.4440  5.1340\n",
              "..       ...     ...      ...      ...      ...      ...     ...\n",
              "154        2    12.2     11.5     12.2     13.4   2.0904  1.3936\n",
              "155        2    13.4     11.7     12.4     13.5   2.4300  1.2690\n",
              "156        2    12.2     12.1     13.0     13.8   2.2770  1.2558\n",
              "157        2    19.7     13.2     14.3     15.2   2.8728  2.0672\n",
              "158        2    19.9     13.8     15.0     16.2   2.9322  1.8792\n",
              "\n",
              "[105 rows x 7 columns]"
            ],
            "text/html": [
              "\n",
              "  <div id=\"df-0f532944-0d72-463b-9028-36b8b5b05f0a\">\n",
              "    <div class=\"colab-df-container\">\n",
              "      <div>\n",
              "<style scoped>\n",
              "    .dataframe tbody tr th:only-of-type {\n",
              "        vertical-align: middle;\n",
              "    }\n",
              "\n",
              "    .dataframe tbody tr th {\n",
              "        vertical-align: top;\n",
              "    }\n",
              "\n",
              "    .dataframe thead th {\n",
              "        text-align: right;\n",
              "    }\n",
              "</style>\n",
              "<table border=\"1\" class=\"dataframe\">\n",
              "  <thead>\n",
              "    <tr style=\"text-align: right;\">\n",
              "      <th></th>\n",
              "      <th>Species</th>\n",
              "      <th>Weight</th>\n",
              "      <th>Length1</th>\n",
              "      <th>Length2</th>\n",
              "      <th>Length3</th>\n",
              "      <th>Height</th>\n",
              "      <th>Width</th>\n",
              "    </tr>\n",
              "  </thead>\n",
              "  <tbody>\n",
              "    <tr>\n",
              "      <th>0</th>\n",
              "      <td>0</td>\n",
              "      <td>242.0</td>\n",
              "      <td>23.2</td>\n",
              "      <td>25.4</td>\n",
              "      <td>30.0</td>\n",
              "      <td>11.5200</td>\n",
              "      <td>4.0200</td>\n",
              "    </tr>\n",
              "    <tr>\n",
              "      <th>1</th>\n",
              "      <td>0</td>\n",
              "      <td>290.0</td>\n",
              "      <td>24.0</td>\n",
              "      <td>26.3</td>\n",
              "      <td>31.2</td>\n",
              "      <td>12.4800</td>\n",
              "      <td>4.3056</td>\n",
              "    </tr>\n",
              "    <tr>\n",
              "      <th>2</th>\n",
              "      <td>0</td>\n",
              "      <td>340.0</td>\n",
              "      <td>23.9</td>\n",
              "      <td>26.5</td>\n",
              "      <td>31.1</td>\n",
              "      <td>12.3778</td>\n",
              "      <td>4.6961</td>\n",
              "    </tr>\n",
              "    <tr>\n",
              "      <th>3</th>\n",
              "      <td>0</td>\n",
              "      <td>363.0</td>\n",
              "      <td>26.3</td>\n",
              "      <td>29.0</td>\n",
              "      <td>33.5</td>\n",
              "      <td>12.7300</td>\n",
              "      <td>4.4555</td>\n",
              "    </tr>\n",
              "    <tr>\n",
              "      <th>4</th>\n",
              "      <td>0</td>\n",
              "      <td>430.0</td>\n",
              "      <td>26.5</td>\n",
              "      <td>29.0</td>\n",
              "      <td>34.0</td>\n",
              "      <td>12.4440</td>\n",
              "      <td>5.1340</td>\n",
              "    </tr>\n",
              "    <tr>\n",
              "      <th>...</th>\n",
              "      <td>...</td>\n",
              "      <td>...</td>\n",
              "      <td>...</td>\n",
              "      <td>...</td>\n",
              "      <td>...</td>\n",
              "      <td>...</td>\n",
              "      <td>...</td>\n",
              "    </tr>\n",
              "    <tr>\n",
              "      <th>154</th>\n",
              "      <td>2</td>\n",
              "      <td>12.2</td>\n",
              "      <td>11.5</td>\n",
              "      <td>12.2</td>\n",
              "      <td>13.4</td>\n",
              "      <td>2.0904</td>\n",
              "      <td>1.3936</td>\n",
              "    </tr>\n",
              "    <tr>\n",
              "      <th>155</th>\n",
              "      <td>2</td>\n",
              "      <td>13.4</td>\n",
              "      <td>11.7</td>\n",
              "      <td>12.4</td>\n",
              "      <td>13.5</td>\n",
              "      <td>2.4300</td>\n",
              "      <td>1.2690</td>\n",
              "    </tr>\n",
              "    <tr>\n",
              "      <th>156</th>\n",
              "      <td>2</td>\n",
              "      <td>12.2</td>\n",
              "      <td>12.1</td>\n",
              "      <td>13.0</td>\n",
              "      <td>13.8</td>\n",
              "      <td>2.2770</td>\n",
              "      <td>1.2558</td>\n",
              "    </tr>\n",
              "    <tr>\n",
              "      <th>157</th>\n",
              "      <td>2</td>\n",
              "      <td>19.7</td>\n",
              "      <td>13.2</td>\n",
              "      <td>14.3</td>\n",
              "      <td>15.2</td>\n",
              "      <td>2.8728</td>\n",
              "      <td>2.0672</td>\n",
              "    </tr>\n",
              "    <tr>\n",
              "      <th>158</th>\n",
              "      <td>2</td>\n",
              "      <td>19.9</td>\n",
              "      <td>13.8</td>\n",
              "      <td>15.0</td>\n",
              "      <td>16.2</td>\n",
              "      <td>2.9322</td>\n",
              "      <td>1.8792</td>\n",
              "    </tr>\n",
              "  </tbody>\n",
              "</table>\n",
              "<p>105 rows × 7 columns</p>\n",
              "</div>\n",
              "      <button class=\"colab-df-convert\" onclick=\"convertToInteractive('df-0f532944-0d72-463b-9028-36b8b5b05f0a')\"\n",
              "              title=\"Convert this dataframe to an interactive table.\"\n",
              "              style=\"display:none;\">\n",
              "        \n",
              "  <svg xmlns=\"http://www.w3.org/2000/svg\" height=\"24px\"viewBox=\"0 0 24 24\"\n",
              "       width=\"24px\">\n",
              "    <path d=\"M0 0h24v24H0V0z\" fill=\"none\"/>\n",
              "    <path d=\"M18.56 5.44l.94 2.06.94-2.06 2.06-.94-2.06-.94-.94-2.06-.94 2.06-2.06.94zm-11 1L8.5 8.5l.94-2.06 2.06-.94-2.06-.94L8.5 2.5l-.94 2.06-2.06.94zm10 10l.94 2.06.94-2.06 2.06-.94-2.06-.94-.94-2.06-.94 2.06-2.06.94z\"/><path d=\"M17.41 7.96l-1.37-1.37c-.4-.4-.92-.59-1.43-.59-.52 0-1.04.2-1.43.59L10.3 9.45l-7.72 7.72c-.78.78-.78 2.05 0 2.83L4 21.41c.39.39.9.59 1.41.59.51 0 1.02-.2 1.41-.59l7.78-7.78 2.81-2.81c.8-.78.8-2.07 0-2.86zM5.41 20L4 18.59l7.72-7.72 1.47 1.35L5.41 20z\"/>\n",
              "  </svg>\n",
              "      </button>\n",
              "      \n",
              "  <style>\n",
              "    .colab-df-container {\n",
              "      display:flex;\n",
              "      flex-wrap:wrap;\n",
              "      gap: 12px;\n",
              "    }\n",
              "\n",
              "    .colab-df-convert {\n",
              "      background-color: #E8F0FE;\n",
              "      border: none;\n",
              "      border-radius: 50%;\n",
              "      cursor: pointer;\n",
              "      display: none;\n",
              "      fill: #1967D2;\n",
              "      height: 32px;\n",
              "      padding: 0 0 0 0;\n",
              "      width: 32px;\n",
              "    }\n",
              "\n",
              "    .colab-df-convert:hover {\n",
              "      background-color: #E2EBFA;\n",
              "      box-shadow: 0px 1px 2px rgba(60, 64, 67, 0.3), 0px 1px 3px 1px rgba(60, 64, 67, 0.15);\n",
              "      fill: #174EA6;\n",
              "    }\n",
              "\n",
              "    [theme=dark] .colab-df-convert {\n",
              "      background-color: #3B4455;\n",
              "      fill: #D2E3FC;\n",
              "    }\n",
              "\n",
              "    [theme=dark] .colab-df-convert:hover {\n",
              "      background-color: #434B5C;\n",
              "      box-shadow: 0px 1px 3px 1px rgba(0, 0, 0, 0.15);\n",
              "      filter: drop-shadow(0px 1px 2px rgba(0, 0, 0, 0.3));\n",
              "      fill: #FFFFFF;\n",
              "    }\n",
              "  </style>\n",
              "\n",
              "      <script>\n",
              "        const buttonEl =\n",
              "          document.querySelector('#df-0f532944-0d72-463b-9028-36b8b5b05f0a button.colab-df-convert');\n",
              "        buttonEl.style.display =\n",
              "          google.colab.kernel.accessAllowed ? 'block' : 'none';\n",
              "\n",
              "        async function convertToInteractive(key) {\n",
              "          const element = document.querySelector('#df-0f532944-0d72-463b-9028-36b8b5b05f0a');\n",
              "          const dataTable =\n",
              "            await google.colab.kernel.invokeFunction('convertToInteractive',\n",
              "                                                     [key], {});\n",
              "          if (!dataTable) return;\n",
              "\n",
              "          const docLinkHtml = 'Like what you see? Visit the ' +\n",
              "            '<a target=\"_blank\" href=https://colab.research.google.com/notebooks/data_table.ipynb>data table notebook</a>'\n",
              "            + ' to learn more about interactive tables.';\n",
              "          element.innerHTML = '';\n",
              "          dataTable['output_type'] = 'display_data';\n",
              "          await google.colab.output.renderOutput(dataTable, element);\n",
              "          const docLink = document.createElement('div');\n",
              "          docLink.innerHTML = docLinkHtml;\n",
              "          element.appendChild(docLink);\n",
              "        }\n",
              "      </script>\n",
              "    </div>\n",
              "  </div>\n",
              "  "
            ]
          },
          "metadata": {},
          "execution_count": 119
        }
      ]
    },
    {
      "cell_type": "code",
      "source": [
        "'''\n",
        "target : list안에 fish_pick에 있는 Species 정보만 싹 가져와서 넣어주세요!\n",
        "feature : list안에 fish_pick에 있는 Weight, Length1, Height 정보를 하나의 쌍으로 하는 리스트를 넣어주세요!\n",
        "\n",
        "출력 예시\n",
        "target ->\n",
        "[0, 0, 1, ...]\n",
        "\n",
        "feature ->\n",
        "[[123, 12, 11], [234, 23, 34], ...]\n",
        "[123, 12, 11]이 하나의 생선에 대한 Weight, Length1, Height 정보입니다.\n",
        "'''\n",
        "\n",
        "##### 채워주세요!! #####\n",
        "target = np.array(fish_pick['Species'])\n",
        "feature = np.array(fish_pick[['Weight', 'Length1','Height']])\n",
        "\n",
        "\n"
      ],
      "metadata": {
        "id": "BOulJQOiCuxR"
      },
      "execution_count": 142,
      "outputs": []
    },
    {
      "cell_type": "code",
      "source": [
        "print(target)\n",
        "print(feature)"
      ],
      "metadata": {
        "colab": {
          "base_uri": "https://localhost:8080/"
        },
        "id": "kG2jcv-AGjWQ",
        "outputId": "53bb4b19-ebb3-493f-9d34-af462fe2a56a"
      },
      "execution_count": 143,
      "outputs": [
        {
          "output_type": "stream",
          "name": "stdout",
          "text": [
            "[0 0 0 0 0 0 0 0 0 0 0 0 0 0 0 0 0 0 0 0 0 0 0 0 0 0 0 0 0 0 0 0 0 0 0 1 1\n",
            " 1 1 1 1 1 1 1 1 1 1 1 1 1 1 1 1 1 1 1 1 1 1 1 1 1 1 1 1 1 1 1 1 1 1 1 1 1\n",
            " 1 1 1 1 1 1 1 1 1 1 1 1 1 1 1 1 1 2 2 2 2 2 2 2 2 2 2 2 2 2 2]\n",
            "[[ 242.       23.2      11.52  ]\n",
            " [ 290.       24.       12.48  ]\n",
            " [ 340.       23.9      12.3778]\n",
            " [ 363.       26.3      12.73  ]\n",
            " [ 430.       26.5      12.444 ]\n",
            " [ 450.       26.8      13.6024]\n",
            " [ 500.       26.8      14.1795]\n",
            " [ 390.       27.6      12.67  ]\n",
            " [ 450.       27.6      14.0049]\n",
            " [ 500.       28.5      14.2266]\n",
            " [ 475.       28.4      14.2628]\n",
            " [ 500.       28.7      14.3714]\n",
            " [ 500.       29.1      13.7592]\n",
            " [ 340.       29.5      13.9129]\n",
            " [ 600.       29.4      14.9544]\n",
            " [ 600.       29.4      15.438 ]\n",
            " [ 700.       30.4      14.8604]\n",
            " [ 700.       30.4      14.938 ]\n",
            " [ 610.       30.9      15.633 ]\n",
            " [ 650.       31.       14.4738]\n",
            " [ 575.       31.3      15.1285]\n",
            " [ 685.       31.4      15.9936]\n",
            " [ 620.       31.5      15.5227]\n",
            " [ 680.       31.8      15.4686]\n",
            " [ 700.       31.9      16.2405]\n",
            " [ 725.       31.8      16.36  ]\n",
            " [ 720.       32.       16.3618]\n",
            " [ 714.       32.7      16.517 ]\n",
            " [ 850.       32.8      16.8896]\n",
            " [1000.       33.5      18.957 ]\n",
            " [ 920.       35.       18.0369]\n",
            " [ 955.       35.       18.084 ]\n",
            " [ 925.       36.2      18.7542]\n",
            " [ 975.       37.4      18.6354]\n",
            " [ 950.       38.       17.6235]\n",
            " [   5.9       7.5       2.112 ]\n",
            " [  32.       12.5       3.528 ]\n",
            " [  40.       13.8       3.824 ]\n",
            " [  51.5      15.        4.5924]\n",
            " [  70.       15.7       4.588 ]\n",
            " [ 100.       16.2       5.2224]\n",
            " [  78.       16.8       5.1992]\n",
            " [  80.       17.2       5.6358]\n",
            " [  85.       17.8       5.1376]\n",
            " [  85.       18.2       5.082 ]\n",
            " [ 110.       19.        5.6925]\n",
            " [ 115.       19.        5.9175]\n",
            " [ 125.       19.        5.6925]\n",
            " [ 130.       19.3       6.384 ]\n",
            " [ 120.       20.        6.11  ]\n",
            " [ 120.       20.        5.64  ]\n",
            " [ 130.       20.        6.11  ]\n",
            " [ 135.       20.        5.875 ]\n",
            " [ 110.       20.        5.5225]\n",
            " [ 130.       20.5       5.856 ]\n",
            " [ 150.       20.5       6.792 ]\n",
            " [ 145.       20.7       5.9532]\n",
            " [ 150.       21.        5.2185]\n",
            " [ 170.       21.5       6.275 ]\n",
            " [ 225.       22.        7.293 ]\n",
            " [ 145.       22.        6.375 ]\n",
            " [ 188.       22.6       6.7334]\n",
            " [ 180.       23.        6.4395]\n",
            " [ 197.       23.5       6.561 ]\n",
            " [ 218.       25.        7.168 ]\n",
            " [ 300.       25.2       8.323 ]\n",
            " [ 260.       25.4       7.1672]\n",
            " [ 265.       25.4       7.0516]\n",
            " [ 250.       25.4       7.2828]\n",
            " [ 250.       25.9       7.8204]\n",
            " [ 300.       26.9       7.5852]\n",
            " [ 320.       27.8       7.6156]\n",
            " [ 514.       30.5      10.03  ]\n",
            " [ 556.       32.       10.2565]\n",
            " [ 840.       32.5      11.4884]\n",
            " [ 685.       34.       10.881 ]\n",
            " [ 700.       34.       10.6091]\n",
            " [ 700.       34.5      10.835 ]\n",
            " [ 690.       34.6      10.5717]\n",
            " [ 900.       36.5      11.1366]\n",
            " [ 650.       36.5      11.1366]\n",
            " [ 820.       36.6      12.4313]\n",
            " [ 850.       36.9      11.9286]\n",
            " [ 900.       37.       11.73  ]\n",
            " [1015.       37.       12.3808]\n",
            " [ 820.       37.1      11.135 ]\n",
            " [1100.       39.       12.8002]\n",
            " [1000.       39.8      11.9328]\n",
            " [1100.       40.1      12.5125]\n",
            " [1000.       40.2      12.604 ]\n",
            " [1000.       41.1      12.4888]\n",
            " [   6.7       9.3       1.7388]\n",
            " [   7.5      10.        1.972 ]\n",
            " [   7.       10.1       1.7284]\n",
            " [   9.7      10.4       2.196 ]\n",
            " [   9.8      10.7       2.0832]\n",
            " [   8.7      10.8       1.9782]\n",
            " [  10.       11.3       2.2139]\n",
            " [   9.9      11.3       2.2139]\n",
            " [   9.8      11.4       2.2044]\n",
            " [  12.2      11.5       2.0904]\n",
            " [  13.4      11.7       2.43  ]\n",
            " [  12.2      12.1       2.277 ]\n",
            " [  19.7      13.2       2.8728]\n",
            " [  19.9      13.8       2.9322]]\n"
          ]
        }
      ]
    },
    {
      "cell_type": "code",
      "source": [
        "from sklearn.model_selection import train_test_split\n",
        "train_input, test_input, train_target, test_target = train_test_split(feature,target )"
      ],
      "metadata": {
        "id": "S4Ny1GSUxWgW"
      },
      "execution_count": 149,
      "outputs": []
    },
    {
      "cell_type": "code",
      "source": [
        "print(test_target)\n",
        "print(test_input)"
      ],
      "metadata": {
        "colab": {
          "base_uri": "https://localhost:8080/"
        },
        "id": "RjIvShz-HO9j",
        "outputId": "b6957d00-d389-41d8-df17-f6abe1cb1d50"
      },
      "execution_count": 152,
      "outputs": [
        {
          "output_type": "stream",
          "name": "stdout",
          "text": [
            "[1 2 1 1 1 1 1 0 1 0 1 1 0 0 1 1 1 1 0 0 1 0 2 0 1 1 1]\n",
            "[[  85.       17.8       5.1376]\n",
            " [   7.5      10.        1.972 ]\n",
            " [ 145.       20.7       5.9532]\n",
            " [ 900.       37.       11.73  ]\n",
            " [ 820.       37.1      11.135 ]\n",
            " [  32.       12.5       3.528 ]\n",
            " [ 188.       22.6       6.7334]\n",
            " [ 500.       26.8      14.1795]\n",
            " [ 150.       20.5       6.792 ]\n",
            " [ 700.       30.4      14.938 ]\n",
            " [ 130.       19.3       6.384 ]\n",
            " [ 265.       25.4       7.0516]\n",
            " [ 340.       29.5      13.9129]\n",
            " [ 650.       31.       14.4738]\n",
            " [ 115.       19.        5.9175]\n",
            " [ 250.       25.9       7.8204]\n",
            " [ 110.       20.        5.5225]\n",
            " [1100.       39.       12.8002]\n",
            " [ 850.       32.8      16.8896]\n",
            " [ 500.       29.1      13.7592]\n",
            " [ 120.       20.        6.11  ]\n",
            " [ 390.       27.6      12.67  ]\n",
            " [  19.9      13.8       2.9322]\n",
            " [ 600.       29.4      14.9544]\n",
            " [ 320.       27.8       7.6156]\n",
            " [ 556.       32.       10.2565]\n",
            " [ 514.       30.5      10.03  ]]\n"
          ]
        }
      ]
    },
    {
      "cell_type": "code",
      "source": [
        "plt.scatter(train_input[:,0],train_input[:,2],c=train_target)\n",
        "plt.show()"
      ],
      "metadata": {
        "colab": {
          "base_uri": "https://localhost:8080/",
          "height": 265
        },
        "id": "P27lGUdjHzND",
        "outputId": "1a7f3bcf-e6aa-4ee9-a770-d2ed9b56ab0e"
      },
      "execution_count": 156,
      "outputs": [
        {
          "output_type": "display_data",
          "data": {
            "text/plain": [
              "<Figure size 432x288 with 1 Axes>"
            ],
            "image/png": "[encoded data removed]"
          },
          "metadata": {
            "needs_background": "light"
          }
        }
      ]
    },
    {
      "cell_type": "code",
      "source": [
        "from sklearn.neighbors import KNeighborsClassifier\n",
        "kn = KNeighborsClassifier()\n",
        "kn.fit(train_input,train_target)\n",
        "kn.score(test_input,test_target)"
      ],
      "metadata": {
        "colab": {
          "base_uri": "https://localhost:8080/"
        },
        "id": "AUPtB9abHRif",
        "outputId": "e5dc5597-b871-4932-cab9-66d880dd1cfa"
      },
      "execution_count": 151,
      "outputs": [
        {
          "output_type": "execute_result",
          "data": {
            "text/plain": [
              "0.7407407407407407"
            ]
          },
          "metadata": {},
          "execution_count": 151
        }
      ]
    }
  ]
}